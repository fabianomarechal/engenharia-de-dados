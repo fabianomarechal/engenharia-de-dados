{
 "cells": [
  {
   "cell_type": "code",
   "execution_count": 1,
   "metadata": {},
   "outputs": [
    {
     "name": "stderr",
     "output_type": "stream",
     "text": [
      "Setting default log level to \"WARN\".\n",
      "To adjust logging level use sc.setLogLevel(newLevel). For SparkR, use setLogLevel(newLevel).\n",
      "23/09/30 23:13:38 WARN NativeCodeLoader: Unable to load native-hadoop library for your platform... using builtin-java classes where applicable\n"
     ]
    }
   ],
   "source": [
    "from pyspark.sql import DataFrame, SparkSession, Row\n",
    "\n",
    "spark: SparkSession  = SparkSession.builder.getOrCreate()\n",
    "\n",
    "df1: DataFrame = spark.read.option(\"encoding\", \"ISO-8859-1\").text('../dados/IBGE/estatisticas/economicas/PIB dos Munic¡pios - base de dados 2010-2020.txt')\n"
   ]
  },
  {
   "cell_type": "code",
   "execution_count": 2,
   "metadata": {},
   "outputs": [],
   "source": [
    "layout = [\n",
    "    { 'position': 1, 'name': 'ano', 'description': 'Ano', 'type': 'int', 'length': 4 },\n",
    "    { 'position': 6, 'name': 'cod_regiao', 'description': 'Código da Grande Região', 'type': 'int', 'length': 1 },\n",
    "    { 'position': 8, 'name': 'nome_regiao', 'description': 'Nome da Grande Região', 'type': 'string', 'length': 12 },\n",
    "    { 'position': 21, 'name': 'uf_cod', 'description': 'Código da Unidade da Federação', 'type': 'int', 'length': 2 },\n",
    "    { 'position': 24, 'name': 'uf_sigla', 'description': 'Sigla da Unidade da Federação', 'type': 'string', 'length': 2 },\n",
    "    { 'position': 27, 'name': 'uf_nome', 'description': 'Nome da Unidade da Federação', 'type': 'string', 'length': 19 },\n",
    "    { 'position': 47, 'name': 'municipio_cod', 'description': 'Código do Município', 'type': 'int', 'length': 7 },\n",
    "    { 'position': 55, 'name': 'municipio_nome', 'description': 'Nome do Município', 'type': 'string', 'length': 40 },\n",
    "    { 'position': 96, 'name': 'regiao_metropolitana', 'description': 'Região Metropolitana', 'type': 'string', 'length': 86 },\n",
    "    { 'position': 183, 'name': 'cod_nome_mesorregiao', 'description': 'Código da Mesorregião', 'type': 'int', 'length': 4 },\n",
    "    { 'position': 188, 'name': 'nome_mesorregiao', 'description': 'Nome da Mesorregião', 'type': 'string', 'length': 40 },\n",
    "    { 'position': 229, 'name': 'cod_microrregiao', 'description': 'Código da Microrregião', 'type': 'int', 'length': 5 },\n",
    "    { 'position': 235, 'name': 'nome_microrregiao', 'description': 'Nome da Microrregião', 'type': 'string', 'length': 40 },\n",
    "    { 'position': 276, 'name': 'cod_regiao_imediata', 'description': 'Código da Região Geográfica Imediata', 'type': 'int', 'length': 6 },\n",
    "    { 'position': 283, 'name': 'nome_regiao_imediata', 'description': 'Nome da Região Geográfica Imediata', 'type': 'string', 'length': 66 },\n",
    "    { 'position': 350, 'name': 'municipio_regiao_imediata', 'description': 'Município da Região Geográfica Imediata', 'type': 'string', 'length': 10 },\n",
    "    { 'position': 361, 'name': 'cod_regiao_intermediaria', 'description': 'Código da Região Geográfica Intermediária', 'type': 'int', 'length': 4 },\n",
    "    { 'position': 366, 'name': 'nome_regiao_intermediaria', 'description': 'Nome da Região Geográfica Intermediária', 'type': 'string', 'length': 35 },\n",
    "    { 'position': 402, 'name': 'municipio_regiao_intermediaria', 'description': 'Município da Região Geográfica Intermediária', 'type': 'string', 'length': 10 },\n",
    "    { 'position': 413, 'name': 'cod_concentracao_urbana', 'description': 'Código Concentração Urbana', 'type': 'int', 'length': 7 },\n",
    "    { 'position': 421, 'name': 'nome_concentracao_urbana', 'description': 'Nome Concentração Urbana', 'type': 'string', 'length': 67 },\n",
    "    { 'position': 489, 'name': 'tipo_concentracao_urbana', 'description': 'Tipo Concentração Urbana', 'type': 'string', 'length': 27 },\n",
    "    { 'position': 517, 'name': 'cod_arranjo_populacional', 'description': 'Código Arranjo Populacional', 'type': 'int', 'length': 7 },\n",
    "    { 'position': 525, 'name': 'nome_arranjo_populacional', 'description': 'Nome Arranjo Populacional', 'type': 'string', 'length': 86 },\n",
    "    { 'position': 612, 'name': 'hierarquia_urbana', 'description': 'Hierarquia Urbana', 'type': 'string', 'length': 32 },\n",
    "    { 'position': 645, 'name': 'hierarquia_urbana_categorias', 'description': 'Hierarquia Urbana (principais categorias)', 'type': 'string', 'length': 19 },\n",
    "    { 'position': 665, 'name': 'cod_regiao_rural', 'description': 'Código da Região Rural', 'type': 'int', 'length': 4 },\n",
    "    { 'position': 670, 'name': 'nome_regiao_rural', 'description': 'Nome da Região Rural', 'type': 'string', 'length': 91 },\n",
    "    { 'position': 762, 'name': 'tipo_regiao_rural', 'description': 'Região Rural (segundo classificação do núcleo)', 'type': 'string', 'length': 43 },\n",
    "    { 'position': 806, 'name': 'amazonia_legal', 'description': 'Amazônia Legal', 'type': 'string', 'length': 4 },\n",
    "    { 'position': 811, 'name': 'semiarido', 'description': 'Semiárido', 'type': 'string', 'length': 4 },\n",
    "    { 'position': 816, 'name': 'cidade_regiao_sao_paulo', 'description': 'Cidade-Região de São Paulo', 'type': 'string', 'length': 4 },\n",
    "    { 'position': 821, 'name': 'valor_bruto_agropecuaria', 'description': 'Valor adicionado bruto da Agropecuária, a preços correntes', 'type': 'double', 'length': 18 },\n",
    "    { 'position': 840, 'name': 'valor_bruto_industria', 'description': 'Valor adicionado bruto da Indústria, a preços correntes', 'type': 'double', 'length': 18 },\n",
    "    { 'position': 859, 'name': 'valor_bruto_servicos', 'description': 'Valor adicionado bruto dos Serviços, a preços correntes - exceto Administração, defesa, educação e saúde públicas e seguridade social', 'type': 'double', 'length': 18 },\n",
    "    { 'position': 878, 'name': 'valor_bruto_administracao', 'description': 'Valor adicionado bruto da Administração, defesa, educação e saúde públicas e seguridade social, a preços correntes', 'type': 'double', 'length': 18 },\n",
    "    { 'position': 897, 'name': 'valor_bruto_total', 'description': 'Valor adicionado bruto total, a preços correntes', 'type': 'double', 'length': 18 },\n",
    "    { 'position': 916, 'name': 'impostos_liquidos', 'description': 'Impostos, líquidos de subsídios, sobre produtos, a preços correntes', 'type': 'double', 'length': 18 },\n",
    "    { 'position': 935, 'name': 'pib', 'description': 'Produto Interno Bruto, a preços correntes', 'type': 'double', 'length': 18 },\n",
    "    { 'position': 954, 'name': 'pib_percapita', 'description': 'Produto Interno Bruto per capita, a preços correntes', 'type': 'double', 'length': 18 },\n",
    "    { 'position': 973, 'name': 'atividade_maior_valor', 'description': 'Atividade econômica com maior valor adicionado bruto', 'type': 'string', 'length': 94 },\n",
    "    { 'position': 1068, 'name': 'atividade_segundo_maior_valor', 'description': 'Atividade econômica com segundo maior valor adicionado bruto', 'type': 'string', 'length': 94 },\n",
    "    { 'position': 1163, 'name': 'atividade_terceiro_maior_valor', 'description': 'Atividade econômica com terceiro maior valor adicionado bruto', 'type': 'string', 'length': 94 },\n",
    "]"
   ]
  },
  {
   "cell_type": "code",
   "execution_count": 3,
   "metadata": {},
   "outputs": [
    {
     "name": "stderr",
     "output_type": "stream",
     "text": [
      "                                                                                \r"
     ]
    }
   ],
   "source": [
    "cols = ''\n",
    "rows = []\n",
    "for field in layout:\n",
    "  cols += \"{} {}, \".format(field['name'], field['type'])\n",
    "cols = cols[:-2]\n",
    "\n",
    "for el in df1.collect():\n",
    "  row = []\n",
    "  for field in layout:\n",
    "    value = (el[0][field['position'] - 1: field['position'] - 1 + field['length']])\n",
    "    if field['type'] == 'int':\n",
    "      try:\n",
    "        value = int(value)\n",
    "      except Exception as ex :\n",
    "        value = None\n",
    "        # print(ex, value, field['name'])\n",
    "    elif field['type'] == 'double':\n",
    "      try:\n",
    "        value = float(value)\n",
    "      except Exception as ex :\n",
    "        value = None\n",
    "        # print(ex, value, field['name'])\n",
    "    row.append(value)\n",
    "  rows.append(row)\n",
    "\n",
    "df2 = spark.createDataFrame(rows, cols)\n"
   ]
  },
  {
   "cell_type": "code",
   "execution_count": 36,
   "metadata": {},
   "outputs": [
    {
     "name": "stderr",
     "output_type": "stream",
     "text": [
      "23/10/01 04:01:35 WARN TaskSetManager: Stage 37 contains a task of very large size (7418 KiB). The maximum recommended task size is 1000 KiB.\n",
      "23/10/01 04:01:36 WARN MemoryManager: Total allocation exceeds 95,00% (1.020.054.720 bytes) of heap memory\n",
      "Scaling row group sizes to 95,00% for 8 writers\n",
      "23/10/01 04:01:36 WARN MemoryManager: Total allocation exceeds 95,00% (1.020.054.720 bytes) of heap memory\n",
      "Scaling row group sizes to 84,44% for 9 writers\n",
      "23/10/01 04:01:36 WARN MemoryManager: Total allocation exceeds 95,00% (1.020.054.720 bytes) of heap memory\n",
      "Scaling row group sizes to 76,00% for 10 writers\n",
      "23/10/01 04:01:36 WARN MemoryManager: Total allocation exceeds 95,00% (1.020.054.720 bytes) of heap memory\n",
      "Scaling row group sizes to 84,44% for 9 writers\n",
      "23/10/01 04:01:36 WARN MemoryManager: Total allocation exceeds 95,00% (1.020.054.720 bytes) of heap memory\n",
      "Scaling row group sizes to 95,00% for 8 writers\n",
      "                                                                                \r"
     ]
    }
   ],
   "source": [
    "# save to file\n",
    "df2.write.parquet(\"../dados/IBGE/estatisticas/economicas/parquet\")"
   ]
  },
  {
   "cell_type": "markdown",
   "metadata": {},
   "source": [
    "## Quantidade de Linhas\n",
    "```df2.count()```"
   ]
  },
  {
   "cell_type": "code",
   "execution_count": 15,
   "metadata": {},
   "outputs": [
    {
     "name": "stderr",
     "output_type": "stream",
     "text": [
      "23/09/30 23:30:45 WARN TaskSetManager: Stage 20 contains a task of very large size (7418 KiB). The maximum recommended task size is 1000 KiB.\n"
     ]
    },
    {
     "data": {
      "text/plain": [
       "61255"
      ]
     },
     "execution_count": 15,
     "metadata": {},
     "output_type": "execute_result"
    }
   ],
   "source": [
    "df2.count()"
   ]
  },
  {
   "cell_type": "code",
   "execution_count": 27,
   "metadata": {},
   "outputs": [
    {
     "name": "stderr",
     "output_type": "stream",
     "text": [
      "23/10/01 00:34:44 WARN TaskSetManager: Stage 29 contains a task of very large size (7418 KiB). The maximum recommended task size is 1000 KiB.\n",
      "23/10/01 00:34:48 WARN PythonRunner: Detected deadlock while completing task 0.0 in stage 29 (TID 139): Attempting to kill Python Worker\n",
      "                                                                                \r"
     ]
    }
   ],
   "source": [
    "a = df2.first()"
   ]
  },
  {
   "cell_type": "code",
   "execution_count": 35,
   "metadata": {},
   "outputs": [
    {
     "data": {
      "text/plain": [
       "'{\"ano\":2010,\"cod_regiao\":1,\"nome_regiao\":\"Norte       \",\"uf_cod\":11,\"uf_sigla\":\"RO\",\"uf_nome\":\"Rond�nia           \",\"municipio_cod\":1100015,\"municipio_nome\":\"Alta Floresta D\\'Oeste                   \",\"regiao_metropolitana\":\"                                                                                      \",\"cod_nome_mesorregiao\":1102,\"nome_mesorregiao\":\"Leste Rondoniense                       \",\"cod_microrregiao\":11006,\"nome_microrregiao\":\"Cacoal                                  \",\"cod_regiao_imediata\":110005,\"nome_regiao_imediata\":\"Cacoal                                                            \",\"municipio_regiao_imediata\":\"do Entorno\",\"cod_regiao_intermediaria\":1102,\"nome_regiao_intermediaria\":\"Ji-Paran�                          \",\"municipio_regiao_intermediaria\":\"do Entorno\",\"nome_concentracao_urbana\":\"                                                                   \",\"tipo_concentracao_urbana\":\"                           \",\"nome_arranjo_populacional\":\"                                                                                      \",\"hierarquia_urbana\":\"Centro Local                    \",\"hierarquia_urbana_categorias\":\"Centro Local       \",\"cod_regiao_rural\":1101,\"nome_regiao_rural\":\"Regi�o Rural da Capital Regional de Porto Velho                                            \",\"tipo_regiao_rural\":\"Regi�o Rural de Capital Regional           \",\"amazonia_legal\":\"Sim \",\"semiarido\":\"N�o \",\"cidade_regiao_sao_paulo\":\"N�o \",\"valor_bruto_agropecuaria\":69260.391,\"valor_bruto_industria\":16118.534,\"valor_bruto_servicos\":62496.185,\"valor_bruto_administracao\":93244.656,\"valor_bruto_total\":241119.767,\"impostos_liquidos\":20957.111,\"pib\":262076.878,\"pib_percapita\":10731.18,\"atividade_maior_valor\":\"Administra��o, defesa, educa��o e sa�de p�blicas e seguridade social                          \",\"atividade_segundo_maior_valor\":\"Pecu�ria, inclusive apoio � pecu�ria                                                          \",\"atividade_terceiro_maior_valor\":\"Demais servi�os                                                                               \"}'"
      ]
     },
     "execution_count": 35,
     "metadata": {},
     "output_type": "execute_result"
    }
   ],
   "source": [
    "spark.createDataFrame([a], cols).toJSON().first()"
   ]
  },
  {
   "cell_type": "code",
   "execution_count": null,
   "metadata": {},
   "outputs": [],
   "source": []
  }
 ],
 "metadata": {
  "kernelspec": {
   "display_name": ".venv",
   "language": "python",
   "name": "python3"
  },
  "language_info": {
   "codemirror_mode": {
    "name": "ipython",
    "version": 3
   },
   "file_extension": ".py",
   "mimetype": "text/x-python",
   "name": "python",
   "nbconvert_exporter": "python",
   "pygments_lexer": "ipython3",
   "version": "3.11.4"
  },
  "orig_nbformat": 4
 },
 "nbformat": 4,
 "nbformat_minor": 2
}
